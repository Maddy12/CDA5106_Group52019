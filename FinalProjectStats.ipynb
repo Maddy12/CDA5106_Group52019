{
 "cells": [
  {
   "cell_type": "code",
   "execution_count": 52,
   "metadata": {},
   "outputs": [],
   "source": [
    "import re\n",
    "import pandas as pd\n",
    "import os\n",
    "import math\n",
    "import numpy as np\n",
    "pd.options.display.float_format = '{:.5f}'.format\n",
    "\n",
    "\n",
    "def read_stats(filepath):\n",
    "    lines = open(filepath, 'r').readlines()\n",
    "    results = dict()\n",
    "    for line in lines[2:-2]:\n",
    "        splits = re.split('\\s+', line)\n",
    "        results[splits[0]] = splits[1]\n",
    "    return results\n",
    "\n",
    "results_dir = \"/home/mschiappa/Desktop/comparch/gem5/fs_results\"\n",
    "files = ['canneal_exp0_run1', 'canneal_exp2_run1', 'canneal_exp1_run1']"
   ]
  },
  {
   "cell_type": "markdown",
   "metadata": {},
   "source": [
    "## Read Results"
   ]
  },
  {
   "cell_type": "code",
   "execution_count": 53,
   "metadata": {},
   "outputs": [
    {
     "name": "stdout",
     "output_type": "stream",
     "text": [
      "Finished reading canneal_exp0_run1 with 7248 keys\n",
      "Finished reading canneal_exp2_run1 with 7689 keys\n",
      "Finished reading canneal_exp1_run1 with 7689 keys\n"
     ]
    },
    {
     "data": {
      "text/plain": [
       "dict_keys(['canneal_exp0_run1', 'canneal_exp2_run1', 'canneal_exp1_run1'])"
      ]
     },
     "execution_count": 53,
     "metadata": {},
     "output_type": "execute_result"
    }
   ],
   "source": [
    "all_results = dict()\n",
    "for file in files:\n",
    "    results = read_stats(os.path.join(results_dir, file, 'stats.txt'))\n",
    "    all_results[file] = results\n",
    "    print(\"Finished reading {} with {} keys\".format(file, len(results.keys())))\n",
    "all_results.keys()"
   ]
  },
  {
   "cell_type": "code",
   "execution_count": 54,
   "metadata": {},
   "outputs": [
    {
     "data": {
      "text/html": [
       "<div>\n",
       "<style scoped>\n",
       "    .dataframe tbody tr th:only-of-type {\n",
       "        vertical-align: middle;\n",
       "    }\n",
       "\n",
       "    .dataframe tbody tr th {\n",
       "        vertical-align: top;\n",
       "    }\n",
       "\n",
       "    .dataframe thead th {\n",
       "        text-align: right;\n",
       "    }\n",
       "</style>\n",
       "<table border=\"1\" class=\"dataframe\">\n",
       "  <thead>\n",
       "    <tr style=\"text-align: right;\">\n",
       "      <th></th>\n",
       "      <th>canneal_exp0_run1</th>\n",
       "      <th>canneal_exp1_run1</th>\n",
       "      <th>canneal_exp2_run1</th>\n",
       "    </tr>\n",
       "  </thead>\n",
       "  <tbody>\n",
       "    <tr>\n",
       "      <th>final_tick</th>\n",
       "      <td>194943570000</td>\n",
       "      <td>5193227806000</td>\n",
       "      <td>5193227806000</td>\n",
       "    </tr>\n",
       "    <tr>\n",
       "      <th>host_inst_rate</th>\n",
       "      <td>179774</td>\n",
       "      <td>160963</td>\n",
       "      <td>159099</td>\n",
       "    </tr>\n",
       "    <tr>\n",
       "      <th>host_mem_usage</th>\n",
       "      <td>2595204</td>\n",
       "      <td>2818912</td>\n",
       "      <td>2816972</td>\n",
       "    </tr>\n",
       "    <tr>\n",
       "      <th>host_op_rate</th>\n",
       "      <td>202555</td>\n",
       "      <td>190257</td>\n",
       "      <td>188053</td>\n",
       "    </tr>\n",
       "    <tr>\n",
       "      <th>host_seconds</th>\n",
       "      <td>653.49</td>\n",
       "      <td>15127.33</td>\n",
       "      <td>15304.62</td>\n",
       "    </tr>\n",
       "    <tr>\n",
       "      <th>host_tick_rate</th>\n",
       "      <td>298313425</td>\n",
       "      <td>343301039</td>\n",
       "      <td>339324174</td>\n",
       "    </tr>\n",
       "    <tr>\n",
       "      <th>sim_freq</th>\n",
       "      <td>1000000000000</td>\n",
       "      <td>1000000000000</td>\n",
       "      <td>1000000000000</td>\n",
       "    </tr>\n",
       "    <tr>\n",
       "      <th>sim_insts</th>\n",
       "      <td>117479444</td>\n",
       "      <td>2434945572</td>\n",
       "      <td>2434945572</td>\n",
       "    </tr>\n",
       "    <tr>\n",
       "      <th>sim_ops</th>\n",
       "      <td>132366551</td>\n",
       "      <td>2878083774</td>\n",
       "      <td>2878083774</td>\n",
       "    </tr>\n",
       "    <tr>\n",
       "      <th>sim_seconds</th>\n",
       "      <td>0.194944</td>\n",
       "      <td>5.193228</td>\n",
       "      <td>5.193228</td>\n",
       "    </tr>\n",
       "    <tr>\n",
       "      <th>sim_ticks</th>\n",
       "      <td>194943570000</td>\n",
       "      <td>5193227806000</td>\n",
       "      <td>5193227806000</td>\n",
       "    </tr>\n",
       "    <tr>\n",
       "      <th>system.bigCluster.clk_domain.clock</th>\n",
       "      <td>500</td>\n",
       "      <td>500</td>\n",
       "      <td>500</td>\n",
       "    </tr>\n",
       "    <tr>\n",
       "      <th>system.bigCluster.cpus0.branchPred.BTBCorrect</th>\n",
       "      <td>0</td>\n",
       "      <td>0</td>\n",
       "      <td>0</td>\n",
       "    </tr>\n",
       "    <tr>\n",
       "      <th>system.bigCluster.cpus0.branchPred.BTBHitPct</th>\n",
       "      <td>76.461417</td>\n",
       "      <td>61.957592</td>\n",
       "      <td>61.957592</td>\n",
       "    </tr>\n",
       "    <tr>\n",
       "      <th>system.bigCluster.cpus0.branchPred.BTBHits</th>\n",
       "      <td>14697984</td>\n",
       "      <td>80455989</td>\n",
       "      <td>80455989</td>\n",
       "    </tr>\n",
       "    <tr>\n",
       "      <th>system.bigCluster.cpus0.branchPred.BTBLookups</th>\n",
       "      <td>19222746</td>\n",
       "      <td>129856547</td>\n",
       "      <td>129856547</td>\n",
       "    </tr>\n",
       "    <tr>\n",
       "      <th>system.bigCluster.cpus0.branchPred.RASInCorrect</th>\n",
       "      <td>1719</td>\n",
       "      <td>30485</td>\n",
       "      <td>30485</td>\n",
       "    </tr>\n",
       "    <tr>\n",
       "      <th>system.bigCluster.cpus0.branchPred.condIncorrect</th>\n",
       "      <td>407111</td>\n",
       "      <td>8196428</td>\n",
       "      <td>8196428</td>\n",
       "    </tr>\n",
       "    <tr>\n",
       "      <th>system.bigCluster.cpus0.branchPred.condPredicted</th>\n",
       "      <td>16876703</td>\n",
       "      <td>118508305</td>\n",
       "      <td>118508305</td>\n",
       "    </tr>\n",
       "    <tr>\n",
       "      <th>system.bigCluster.cpus0.branchPred.indirectHits</th>\n",
       "      <td>291501</td>\n",
       "      <td>4933812</td>\n",
       "      <td>4933812</td>\n",
       "    </tr>\n",
       "  </tbody>\n",
       "</table>\n",
       "</div>"
      ],
      "text/plain": [
       "                                                 canneal_exp0_run1  \\\n",
       "final_tick                                            194943570000   \n",
       "host_inst_rate                                              179774   \n",
       "host_mem_usage                                             2595204   \n",
       "host_op_rate                                                202555   \n",
       "host_seconds                                                653.49   \n",
       "host_tick_rate                                           298313425   \n",
       "sim_freq                                             1000000000000   \n",
       "sim_insts                                                117479444   \n",
       "sim_ops                                                  132366551   \n",
       "sim_seconds                                               0.194944   \n",
       "sim_ticks                                             194943570000   \n",
       "system.bigCluster.clk_domain.clock                             500   \n",
       "system.bigCluster.cpus0.branchPred.BTBCorrect                    0   \n",
       "system.bigCluster.cpus0.branchPred.BTBHitPct             76.461417   \n",
       "system.bigCluster.cpus0.branchPred.BTBHits                14697984   \n",
       "system.bigCluster.cpus0.branchPred.BTBLookups             19222746   \n",
       "system.bigCluster.cpus0.branchPred.RASInCorrect               1719   \n",
       "system.bigCluster.cpus0.branchPred.condIncorrect            407111   \n",
       "system.bigCluster.cpus0.branchPred.condPredicted          16876703   \n",
       "system.bigCluster.cpus0.branchPred.indirectHits             291501   \n",
       "\n",
       "                                                 canneal_exp1_run1  \\\n",
       "final_tick                                           5193227806000   \n",
       "host_inst_rate                                              160963   \n",
       "host_mem_usage                                             2818912   \n",
       "host_op_rate                                                190257   \n",
       "host_seconds                                              15127.33   \n",
       "host_tick_rate                                           343301039   \n",
       "sim_freq                                             1000000000000   \n",
       "sim_insts                                               2434945572   \n",
       "sim_ops                                                 2878083774   \n",
       "sim_seconds                                               5.193228   \n",
       "sim_ticks                                            5193227806000   \n",
       "system.bigCluster.clk_domain.clock                             500   \n",
       "system.bigCluster.cpus0.branchPred.BTBCorrect                    0   \n",
       "system.bigCluster.cpus0.branchPred.BTBHitPct             61.957592   \n",
       "system.bigCluster.cpus0.branchPred.BTBHits                80455989   \n",
       "system.bigCluster.cpus0.branchPred.BTBLookups            129856547   \n",
       "system.bigCluster.cpus0.branchPred.RASInCorrect              30485   \n",
       "system.bigCluster.cpus0.branchPred.condIncorrect           8196428   \n",
       "system.bigCluster.cpus0.branchPred.condPredicted         118508305   \n",
       "system.bigCluster.cpus0.branchPred.indirectHits            4933812   \n",
       "\n",
       "                                                 canneal_exp2_run1  \n",
       "final_tick                                           5193227806000  \n",
       "host_inst_rate                                              159099  \n",
       "host_mem_usage                                             2816972  \n",
       "host_op_rate                                                188053  \n",
       "host_seconds                                              15304.62  \n",
       "host_tick_rate                                           339324174  \n",
       "sim_freq                                             1000000000000  \n",
       "sim_insts                                               2434945572  \n",
       "sim_ops                                                 2878083774  \n",
       "sim_seconds                                               5.193228  \n",
       "sim_ticks                                            5193227806000  \n",
       "system.bigCluster.clk_domain.clock                             500  \n",
       "system.bigCluster.cpus0.branchPred.BTBCorrect                    0  \n",
       "system.bigCluster.cpus0.branchPred.BTBHitPct             61.957592  \n",
       "system.bigCluster.cpus0.branchPred.BTBHits                80455989  \n",
       "system.bigCluster.cpus0.branchPred.BTBLookups            129856547  \n",
       "system.bigCluster.cpus0.branchPred.RASInCorrect              30485  \n",
       "system.bigCluster.cpus0.branchPred.condIncorrect           8196428  \n",
       "system.bigCluster.cpus0.branchPred.condPredicted         118508305  \n",
       "system.bigCluster.cpus0.branchPred.indirectHits            4933812  "
      ]
     },
     "execution_count": 54,
     "metadata": {},
     "output_type": "execute_result"
    }
   ],
   "source": [
    "all_results_df = pd.DataFrame(all_results)\n",
    "all_results_df.to_csv('all_results.csv')\n",
    "all_results_df.head(20)"
   ]
  },
  {
   "cell_type": "code",
   "execution_count": 31,
   "metadata": {},
   "outputs": [
    {
     "name": "stderr",
     "output_type": "stream",
     "text": [
      "/home/mschiappa/.local/lib/python3.6/site-packages/numpy/core/_methods.py:193: RuntimeWarning: invalid value encountered in subtract\n",
      "  x = asanyarray(arr - arrmean)\n"
     ]
    },
    {
     "data": {
      "text/html": [
       "<div>\n",
       "<style scoped>\n",
       "    .dataframe tbody tr th:only-of-type {\n",
       "        vertical-align: middle;\n",
       "    }\n",
       "\n",
       "    .dataframe tbody tr th {\n",
       "        vertical-align: top;\n",
       "    }\n",
       "\n",
       "    .dataframe thead th {\n",
       "        text-align: right;\n",
       "    }\n",
       "</style>\n",
       "<table border=\"1\" class=\"dataframe\">\n",
       "  <thead>\n",
       "    <tr style=\"text-align: right;\">\n",
       "      <th></th>\n",
       "      <th>canneal_exp0_run1</th>\n",
       "      <th>canneal_exp0_run2</th>\n",
       "      <th>canneal_exp1_run1</th>\n",
       "      <th>canneal_exp1_run2</th>\n",
       "      <th>canneal_exp2_run1</th>\n",
       "      <th>canneal_exp2_run2</th>\n",
       "      <th>exp_ci95_hi</th>\n",
       "      <th>exp_ci95_lo</th>\n",
       "    </tr>\n",
       "  </thead>\n",
       "  <tbody>\n",
       "    <tr>\n",
       "      <th>final_tick</th>\n",
       "      <td>194943570000</td>\n",
       "      <td>5193227806000</td>\n",
       "      <td>5193227806000</td>\n",
       "      <td>5193227806000</td>\n",
       "      <td>5193227806000</td>\n",
       "      <td>5193227806000</td>\n",
       "      <td>34448697104748.53906</td>\n",
       "      <td>-29060525728748.53906</td>\n",
       "    </tr>\n",
       "    <tr>\n",
       "      <th>host_inst_rate</th>\n",
       "      <td>179774</td>\n",
       "      <td>179058</td>\n",
       "      <td>160963</td>\n",
       "      <td>160793</td>\n",
       "      <td>159099</td>\n",
       "      <td>159065</td>\n",
       "      <td>183964.82130</td>\n",
       "      <td>174867.17870</td>\n",
       "    </tr>\n",
       "    <tr>\n",
       "      <th>host_mem_usage</th>\n",
       "      <td>2595204</td>\n",
       "      <td>2817188</td>\n",
       "      <td>2818912</td>\n",
       "      <td>2817012</td>\n",
       "      <td>2816972</td>\n",
       "      <td>2816984</td>\n",
       "      <td>4116483.07611</td>\n",
       "      <td>1295908.92389</td>\n",
       "    </tr>\n",
       "    <tr>\n",
       "      <th>host_op_rate</th>\n",
       "      <td>202555</td>\n",
       "      <td>211645</td>\n",
       "      <td>190257</td>\n",
       "      <td>190056</td>\n",
       "      <td>188053</td>\n",
       "      <td>188013</td>\n",
       "      <td>264849.70053</td>\n",
       "      <td>149350.29947</td>\n",
       "    </tr>\n",
       "    <tr>\n",
       "      <th>host_seconds</th>\n",
       "      <td>653.49</td>\n",
       "      <td>13598.61</td>\n",
       "      <td>15127.33</td>\n",
       "      <td>15143.35</td>\n",
       "      <td>15304.62</td>\n",
       "      <td>15307.87</td>\n",
       "      <td>89367.72253</td>\n",
       "      <td>-75115.62253</td>\n",
       "    </tr>\n",
       "  </tbody>\n",
       "</table>\n",
       "</div>"
      ],
      "text/plain": [
       "               canneal_exp0_run1 canneal_exp0_run2 canneal_exp1_run1  \\\n",
       "final_tick          194943570000     5193227806000     5193227806000   \n",
       "host_inst_rate            179774            179058            160963   \n",
       "host_mem_usage           2595204           2817188           2818912   \n",
       "host_op_rate              202555            211645            190257   \n",
       "host_seconds              653.49          13598.61          15127.33   \n",
       "\n",
       "               canneal_exp1_run2 canneal_exp2_run1 canneal_exp2_run2  \\\n",
       "final_tick         5193227806000     5193227806000     5193227806000   \n",
       "host_inst_rate            160793            159099            159065   \n",
       "host_mem_usage           2817012           2816972           2816984   \n",
       "host_op_rate              190056            188053            188013   \n",
       "host_seconds            15143.35          15304.62          15307.87   \n",
       "\n",
       "                        exp_ci95_hi           exp_ci95_lo  \n",
       "final_tick     34448697104748.53906 -29060525728748.53906  \n",
       "host_inst_rate         183964.82130          174867.17870  \n",
       "host_mem_usage        4116483.07611         1295908.92389  \n",
       "host_op_rate           264849.70053          149350.29947  \n",
       "host_seconds            89367.72253          -75115.62253  "
      ]
     },
     "execution_count": 31,
     "metadata": {},
     "output_type": "execute_result"
    }
   ],
   "source": [
    "import numpy as np\n",
    "import math\n",
    "import scipy.stats\n",
    "\n",
    "\n",
    "def mean_confidence_interval(data, confidence=0.95):\n",
    "    a = 1.0 * np.array(data)\n",
    "    n = len(a)\n",
    "    m, se = np.mean(a), scipy.stats.sem(a)\n",
    "    h = se * scipy.stats.t.ppf((1 + confidence) / 2., n-1)\n",
    "    return m, m-h, m+h\n",
    "\n",
    "mean = all_results_df[['canneal_exp0_run1', 'canneal_exp0_run2']].astype(float).mean(axis=1).values\n",
    "std = all_results_df[['canneal_exp0_run1', 'canneal_exp0_run2']].astype(float).std(axis=1).values\n",
    "c = 2\n",
    "ci95_hi = []\n",
    "ci95_lo = []\n",
    "for i in range(len(all_results_df)):\n",
    "    m, low, high = mean_confidence_interval(all_results_df[['canneal_exp0_run1', 'canneal_exp0_run2']].astype(float).iloc[i].values)\n",
    "    ci95_hi.append(high)\n",
    "    ci95_lo.append(low)\n",
    "\n",
    "all_results_df['exp_ci95_hi'] = ci95_hi\n",
    "all_results_df['exp_ci95_lo'] = ci95_lo\n",
    "all_results_df.head()"
   ]
  },
  {
   "cell_type": "code",
   "execution_count": 57,
   "metadata": {},
   "outputs": [],
   "source": [
    "all_results_df['cpu'] = [re.sub('cpus\\d+\\.', '', col) for col in all_results_df.index.values]\n",
    "pd.options.display.float_format = '{:.5f}'.format\n",
    "def get_difference(cols):\n",
    "    df = all_results_df.loc[all_results_df['cpu'].isin(cols)]\n",
    "    # hits = hits[(hits['canneal_exp0_run1'] > hits['canneal_exp1_run1']) & ~(hits['canneal_exp0_run1'].isnull())]\n",
    "    df['difference'] = (df['canneal_exp1_run1'].astype(float) - df['canneal_exp0_run1'].astype(float))/df['canneal_exp0_run1'].astype(float)\n",
    "    df = df.groupby('cpu').difference.mean()#.reset_index()\n",
    "    return df\n",
    "    "
   ]
  },
  {
   "cell_type": "code",
   "execution_count": 31,
   "metadata": {},
   "outputs": [
    {
     "data": {
      "text/html": [
       "<div>\n",
       "<style scoped>\n",
       "    .dataframe tbody tr th:only-of-type {\n",
       "        vertical-align: middle;\n",
       "    }\n",
       "\n",
       "    .dataframe tbody tr th {\n",
       "        vertical-align: top;\n",
       "    }\n",
       "\n",
       "    .dataframe thead th {\n",
       "        text-align: right;\n",
       "    }\n",
       "</style>\n",
       "<table border=\"1\" class=\"dataframe\">\n",
       "  <thead>\n",
       "    <tr style=\"text-align: right;\">\n",
       "      <th></th>\n",
       "      <th>canneal_exp0_run1</th>\n",
       "      <th>canneal_exp0_run2</th>\n",
       "      <th>canneal_exp1_run1</th>\n",
       "      <th>canneal_exp1_run2</th>\n",
       "      <th>canneal_exp2_run1</th>\n",
       "      <th>canneal_exp2_run2</th>\n",
       "    </tr>\n",
       "  </thead>\n",
       "  <tbody>\n",
       "    <tr>\n",
       "      <th>host_inst_rate</th>\n",
       "      <td>179774</td>\n",
       "      <td>NaN</td>\n",
       "      <td>160963</td>\n",
       "      <td>160793</td>\n",
       "      <td>159099</td>\n",
       "      <td>159065</td>\n",
       "    </tr>\n",
       "    <tr>\n",
       "      <th>host_mem_usage</th>\n",
       "      <td>2595204</td>\n",
       "      <td>NaN</td>\n",
       "      <td>2818912</td>\n",
       "      <td>2817012</td>\n",
       "      <td>2816972</td>\n",
       "      <td>2816984</td>\n",
       "    </tr>\n",
       "    <tr>\n",
       "      <th>host_op_rate</th>\n",
       "      <td>202555</td>\n",
       "      <td>NaN</td>\n",
       "      <td>190257</td>\n",
       "      <td>190056</td>\n",
       "      <td>188053</td>\n",
       "      <td>188013</td>\n",
       "    </tr>\n",
       "    <tr>\n",
       "      <th>host_seconds</th>\n",
       "      <td>653.49</td>\n",
       "      <td>NaN</td>\n",
       "      <td>15127.33</td>\n",
       "      <td>15143.35</td>\n",
       "      <td>15304.62</td>\n",
       "      <td>15307.87</td>\n",
       "    </tr>\n",
       "    <tr>\n",
       "      <th>host_tick_rate</th>\n",
       "      <td>298313425</td>\n",
       "      <td>NaN</td>\n",
       "      <td>343301039</td>\n",
       "      <td>342937872</td>\n",
       "      <td>339324174</td>\n",
       "      <td>339252095</td>\n",
       "    </tr>\n",
       "  </tbody>\n",
       "</table>\n",
       "</div>"
      ],
      "text/plain": [
       "               canneal_exp0_run1  canneal_exp0_run2 canneal_exp1_run1  \\\n",
       "host_inst_rate            179774                NaN            160963   \n",
       "host_mem_usage           2595204                NaN           2818912   \n",
       "host_op_rate              202555                NaN            190257   \n",
       "host_seconds              653.49                NaN          15127.33   \n",
       "host_tick_rate         298313425                NaN         343301039   \n",
       "\n",
       "               canneal_exp1_run2 canneal_exp2_run1 canneal_exp2_run2  \n",
       "host_inst_rate            160793            159099            159065  \n",
       "host_mem_usage           2817012           2816972           2816984  \n",
       "host_op_rate              190056            188053            188013  \n",
       "host_seconds            15143.35          15304.62          15307.87  \n",
       "host_tick_rate         342937872         339324174         339252095  "
      ]
     },
     "execution_count": 31,
     "metadata": {},
     "output_type": "execute_result"
    }
   ],
   "source": [
    "all_results_df[(all_results_df['canneal_exp1_run1'] != all_results_df['canneal_exp2_run1']) & ~(all_results_df['canneal_exp1_run1'].isnull())]"
   ]
  },
  {
   "cell_type": "markdown",
   "metadata": {},
   "source": [
    "## Faults"
   ]
  },
  {
   "cell_type": "code",
   "execution_count": 111,
   "metadata": {},
   "outputs": [
    {
     "data": {
      "text/html": [
       "<div>\n",
       "<style scoped>\n",
       "    .dataframe tbody tr th:only-of-type {\n",
       "        vertical-align: middle;\n",
       "    }\n",
       "\n",
       "    .dataframe tbody tr th {\n",
       "        vertical-align: top;\n",
       "    }\n",
       "\n",
       "    .dataframe thead th {\n",
       "        text-align: right;\n",
       "    }\n",
       "</style>\n",
       "<table border=\"1\" class=\"dataframe\">\n",
       "  <thead>\n",
       "    <tr style=\"text-align: right;\">\n",
       "      <th></th>\n",
       "      <th>cpu</th>\n",
       "      <th>difference</th>\n",
       "    </tr>\n",
       "  </thead>\n",
       "  <tbody>\n",
       "    <tr>\n",
       "      <th>0</th>\n",
       "      <td>bigCluster.dtb.align_faults</td>\n",
       "      <td>0.92857</td>\n",
       "    </tr>\n",
       "    <tr>\n",
       "      <th>1</th>\n",
       "      <td>bigCluster.dtb.perms_faults</td>\n",
       "      <td>1.00000</td>\n",
       "    </tr>\n",
       "    <tr>\n",
       "      <th>2</th>\n",
       "      <td>bigCluster.dtb.prefetch_faults</td>\n",
       "      <td>0.96210</td>\n",
       "    </tr>\n",
       "    <tr>\n",
       "      <th>3</th>\n",
       "      <td>bigCluster.itb.perms_faults</td>\n",
       "      <td>1.00000</td>\n",
       "    </tr>\n",
       "    <tr>\n",
       "      <th>4</th>\n",
       "      <td>littleCluster.dtb.align_faults</td>\n",
       "      <td>0.91508</td>\n",
       "    </tr>\n",
       "    <tr>\n",
       "      <th>5</th>\n",
       "      <td>littleCluster.dtb.perms_faults</td>\n",
       "      <td>1.00000</td>\n",
       "    </tr>\n",
       "    <tr>\n",
       "      <th>6</th>\n",
       "      <td>littleCluster.dtb.prefetch_faults</td>\n",
       "      <td>0.97984</td>\n",
       "    </tr>\n",
       "    <tr>\n",
       "      <th>7</th>\n",
       "      <td>littleCluster.itb.perms_faults</td>\n",
       "      <td>1.00000</td>\n",
       "    </tr>\n",
       "  </tbody>\n",
       "</table>\n",
       "</div>"
      ],
      "text/plain": [
       "                                 cpu  difference\n",
       "0        bigCluster.dtb.align_faults     0.92857\n",
       "1        bigCluster.dtb.perms_faults     1.00000\n",
       "2     bigCluster.dtb.prefetch_faults     0.96210\n",
       "3        bigCluster.itb.perms_faults     1.00000\n",
       "4     littleCluster.dtb.align_faults     0.91508\n",
       "5     littleCluster.dtb.perms_faults     1.00000\n",
       "6  littleCluster.dtb.prefetch_faults     0.97984\n",
       "7     littleCluster.itb.perms_faults     1.00000"
      ]
     },
     "execution_count": 111,
     "metadata": {},
     "output_type": "execute_result"
    }
   ],
   "source": [
    "faults = all_results_df.loc[[col for col in all_results_df.index.values if 'faults' in col]]\n",
    "faults = faults[faults['canneal_exp0_run1'] != faults['canneal_exp1_run1']]\n",
    "faults['cpu'] = [col.split('.')[1]+'.'+col.split('.')[3]+'.'+col.split('.')[4] for col in faults.index.values]\n",
    "faults['difference'] = (faults['canneal_exp1_run1'].astype(float) - faults['canneal_exp0_run1'].astype(float))/faults['canneal_exp1_run1'].astype(float)\n",
    "faults.groupby('cpu').difference.mean().reset_index()"
   ]
  },
  {
   "cell_type": "code",
   "execution_count": 55,
   "metadata": {},
   "outputs": [],
   "source": [
    "faults.groupby('cpu').difference.mean().reset_index()  #.to_csv('faults_difference.csv')"
   ]
  },
  {
   "cell_type": "markdown",
   "metadata": {},
   "source": [
    "## Branchs"
   ]
  },
  {
   "cell_type": "code",
   "execution_count": 59,
   "metadata": {
    "scrolled": false
   },
   "outputs": [
    {
     "name": "stderr",
     "output_type": "stream",
     "text": [
      "/usr/lib/python3/dist-packages/ipykernel_launcher.py:6: SettingWithCopyWarning: \n",
      "A value is trying to be set on a copy of a slice from a DataFrame.\n",
      "Try using .loc[row_indexer,col_indexer] = value instead\n",
      "\n",
      "See the caveats in the documentation: http://pandas.pydata.org/pandas-docs/stable/indexing.html#indexing-view-versus-copy\n",
      "  \n"
     ]
    },
    {
     "data": {
      "text/plain": [
       "cpu\n",
       "system.bigCluster.branchPred.BTBHitPct              -0.21929\n",
       "system.bigCluster.branchPredindirectMispredicted   380.96538\n",
       "system.bigCluster.decode.BranchMispred              40.03839\n",
       "system.bigCluster.decode.BranchResolved             40.50531\n",
       "system.bigCluster.fetch.Branches                    45.16096\n",
       "system.littleCluster.branchPred.BTBHitPct           -0.12583\n",
       "Name: difference, dtype: float64"
      ]
     },
     "execution_count": 59,
     "metadata": {},
     "output_type": "execute_result"
    }
   ],
   "source": [
    "cols = [\n",
    "    \"system.bigCluster.decode.BranchMispred\",\n",
    "    \"system.bigCluster.decode.BranchResolved\",\n",
    "    \"system.bigCluster.fetch.Branches\",\n",
    "    \"system.bigCluster.fetch.predictedBranches\"\n",
    "    \"system.littleCluster.branchPredindirectMispredicted\",\n",
    "    \"system.bigCluster.branchPredindirectMispredicted\",\n",
    "    \"system.littleCluster.branchPred.BTBHitPct\",\n",
    "    \"system.bigCluster.branchPred.BTBHitPct\" \n",
    "]\n",
    "branches = get_difference(cols)\n",
    "branches"
   ]
  },
  {
   "cell_type": "markdown",
   "metadata": {},
   "source": [
    "## ReadReq"
   ]
  },
  {
   "cell_type": "code",
   "execution_count": 60,
   "metadata": {},
   "outputs": [
    {
     "name": "stderr",
     "output_type": "stream",
     "text": [
      "/usr/lib/python3/dist-packages/ipykernel_launcher.py:6: SettingWithCopyWarning: \n",
      "A value is trying to be set on a copy of a slice from a DataFrame.\n",
      "Try using .loc[row_indexer,col_indexer] = value instead\n",
      "\n",
      "See the caveats in the documentation: http://pandas.pydata.org/pandas-docs/stable/indexing.html#indexing-view-versus-copy\n",
      "  \n"
     ]
    },
    {
     "data": {
      "text/plain": [
       "cpu\n",
       "system.bigCluster.dcache.ReadReq_misses::total                   54.69649\n",
       "system.bigCluster.dtb_walker_cache.ReadReq_misses::total       6885.81905\n",
       "system.bigCluster.itb_walker_cache.ReadReq_misses::total      10275.94643\n",
       "system.littleCluster.dcache.ReadReq_misses::total                87.15967\n",
       "system.littleCluster.dtb_walker_cache.ReadReq_misses::total    1905.99579\n",
       "system.littleCluster.icache.ReadReq_misses::total                42.87676\n",
       "Name: difference, dtype: float64"
      ]
     },
     "execution_count": 60,
     "metadata": {},
     "output_type": "execute_result"
    }
   ],
   "source": [
    "cols = [\n",
    "    \"system.bigCluster.dcache.ReadReq_misses::total\",\n",
    "    \"system.bigCluster.dtb_walker_cache.ReadReq_misses::total\",\n",
    "    \"system.bigCluster.itb_walker_cache.ReadReq_misses::total\",\n",
    "    \"system.littleCluster.dcache.ReadReq_misses::total\",\n",
    "    \"system.littleCluster.dtb_walker_cache.ReadReq_misses::total\",\n",
    "    \"system.littleCluster.icache.ReadReq_misses::total\"\n",
    "]\n",
    "readreq = get_difference(cols)\n",
    "readreq"
   ]
  },
  {
   "cell_type": "markdown",
   "metadata": {},
   "source": [
    "## WriteReq"
   ]
  },
  {
   "cell_type": "code",
   "execution_count": 61,
   "metadata": {},
   "outputs": [
    {
     "name": "stderr",
     "output_type": "stream",
     "text": [
      "/usr/lib/python3/dist-packages/ipykernel_launcher.py:6: SettingWithCopyWarning: \n",
      "A value is trying to be set on a copy of a slice from a DataFrame.\n",
      "Try using .loc[row_indexer,col_indexer] = value instead\n",
      "\n",
      "See the caveats in the documentation: http://pandas.pydata.org/pandas-docs/stable/indexing.html#indexing-view-versus-copy\n",
      "  \n"
     ]
    },
    {
     "data": {
      "text/plain": [
       "cpu\n",
       "system.bigCluster.dcache.WriteReq_hits::total              45.87991\n",
       "system.bigCluster.dcache.WriteReq_miss_latency::total      45.44683\n",
       "system.littleCluster.dcache.WriteReq_hits::total           81.62738\n",
       "system.littleCluster.dcache.WriteReq_miss_latency::total   47.91705\n",
       "Name: difference, dtype: float64"
      ]
     },
     "execution_count": 61,
     "metadata": {},
     "output_type": "execute_result"
    }
   ],
   "source": [
    "cols = [\n",
    "    \"system.bigCluster.dcache.WriteReq_hits::total\",\n",
    "    \"system.bigCluster.dcache.WriteReq_miss_latency::total\",                \n",
    "    \"system.littleCluster.dcache.WriteReq_hits::total\",                      \n",
    "    \"system.littleCluster.dcache.WriteReq_miss_latency::total\",    \n",
    "]\n",
    "writereq = get_difference(cols)\n",
    "writereq"
   ]
  },
  {
   "cell_type": "markdown",
   "metadata": {},
   "source": [
    "## L2 Misses"
   ]
  },
  {
   "cell_type": "code",
   "execution_count": 62,
   "metadata": {},
   "outputs": [
    {
     "name": "stderr",
     "output_type": "stream",
     "text": [
      "/usr/lib/python3/dist-packages/ipykernel_launcher.py:6: SettingWithCopyWarning: \n",
      "A value is trying to be set on a copy of a slice from a DataFrame.\n",
      "Try using .loc[row_indexer,col_indexer] = value instead\n",
      "\n",
      "See the caveats in the documentation: http://pandas.pydata.org/pandas-docs/stable/indexing.html#indexing-view-versus-copy\n",
      "  \n"
     ]
    },
    {
     "data": {
      "text/plain": [
       "cpu\n",
       "system.bigCluster.l2.overall_miss_latency::total       6.51067\n",
       "system.bigCluster.l2.overall_misses::total             6.13399\n",
       "system.littleCluster.l2.overall_miss_latency::total   41.78406\n",
       "system.littleCluster.l2.overall_misses::total         42.57110\n",
       "Name: difference, dtype: float64"
      ]
     },
     "execution_count": 62,
     "metadata": {},
     "output_type": "execute_result"
    }
   ],
   "source": [
    "cols = [\n",
    "    \"system.bigCluster.l2.overall_miss_latency::total\",\n",
    "    \"system.bigCluster.l2.overall_misses::total\",\n",
    "    \"system.littleCluster.l2.overall_miss_latency::total\",\n",
    "    \"system.littleCluster.l2.overall_misses::total\"\n",
    "]\n",
    "l2miss = get_difference(cols)\n",
    "l2miss"
   ]
  },
  {
   "cell_type": "markdown",
   "metadata": {},
   "source": [
    "## Hits"
   ]
  },
  {
   "cell_type": "code",
   "execution_count": 63,
   "metadata": {},
   "outputs": [
    {
     "name": "stderr",
     "output_type": "stream",
     "text": [
      "/usr/lib/python3/dist-packages/ipykernel_launcher.py:6: SettingWithCopyWarning: \n",
      "A value is trying to be set on a copy of a slice from a DataFrame.\n",
      "Try using .loc[row_indexer,col_indexer] = value instead\n",
      "\n",
      "See the caveats in the documentation: http://pandas.pydata.org/pandas-docs/stable/indexing.html#indexing-view-versus-copy\n",
      "  \n"
     ]
    },
    {
     "data": {
      "text/plain": [
       "cpu\n",
       "system.bigCluster.dcache.overall_hits::total                 44.72734\n",
       "system.bigCluster.dtb_walker_cache.overall_hits::total      275.57915\n",
       "system.bigCluster.icache.overall_hits::total                 44.13082\n",
       "system.littleCluster.dcache.overall_hits::total              82.03799\n",
       "system.littleCluster.dtb_walker_cache.overall_hits::total   278.21043\n",
       "system.littleCluster.icache.overall_hits::total              86.82391\n",
       "Name: difference, dtype: float64"
      ]
     },
     "execution_count": 63,
     "metadata": {},
     "output_type": "execute_result"
    }
   ],
   "source": [
    "cols = [\n",
    "    \"system.littleCluster.dtb_walker_cache.overall_hits::total\",\n",
    "    \"system.littleCluster.icache.overall_hits::total\", \n",
    "    \"system.littleCluster.dcache.overall_hits::total\",\n",
    "\n",
    "    \"system.bigCluster.dtb_walker_cache.overall_hits::total\",\n",
    "    \"system.bigCluster.dcache.overall_hits::total\",\n",
    "    \"system.bigCluster.icache.overall_hits::total\"\n",
    "]\n",
    "hits = get_difference(cols)\n",
    "hits"
   ]
  }
 ],
 "metadata": {
  "kernelspec": {
   "display_name": "Python 3",
   "language": "python",
   "name": "python3"
  },
  "language_info": {
   "codemirror_mode": {
    "name": "ipython",
    "version": 3
   },
   "file_extension": ".py",
   "mimetype": "text/x-python",
   "name": "python",
   "nbconvert_exporter": "python",
   "pygments_lexer": "ipython3",
   "version": "3.6.8"
  }
 },
 "nbformat": 4,
 "nbformat_minor": 2
}
